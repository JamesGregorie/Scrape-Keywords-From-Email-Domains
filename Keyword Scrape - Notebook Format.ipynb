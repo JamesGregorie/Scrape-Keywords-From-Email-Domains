{
 "cells": [
  {
   "cell_type": "code",
   "execution_count": 7,
   "metadata": {
    "collapsed": true
   },
   "outputs": [],
   "source": [
    "import csv\n",
    "from bs4 import BeautifulSoup\n",
    "import requests"
   ]
  },
  {
   "cell_type": "code",
   "execution_count": 16,
   "metadata": {},
   "outputs": [
    {
     "name": "stdout",
     "output_type": "stream",
     "text": [
      "['industrial flat panel monitors, industrial monitors, industrial monitor, industrial displays, industrial flat panel, panel mount monitor, industrial touchscreens, industrial touch screens, industrial display, panelmount, nema, his, hismonitors, hope industrial, flat screen, rackmount, rack mount, industrial pc, industrial computer', 'rugged pc, rugged monitor, industrial pc, industrial monitor', 'pepperl+fuchs, automation, industrial sensors, factory automation, explosion protection, process automation, inductive sensor, ultrasonic sensor, proximity switch, interface modules, fieldbus, remote i/o']\n"
     ]
    }
   ],
   "source": [
    "urls = ['http://www.hopeindustrial.com','http://www.makeitdaisy.com', 'https://www.pepperl-fuchs.com/global/en/index.htm']\n",
    "keywords = []\n",
    "\n",
    "# with open( \"--ENTER EMAIL DOMAIN URLS DOC--\", 'r') as f:\n",
    "#     reader = csv.reader(f)\n",
    "#     your_list = list(reader)\n",
    "# for i in your_list:\n",
    "#     urls.append('http://www.'+i[0])\n",
    "\n",
    "def get_keywords(li):\n",
    "    for i in li:\n",
    "        try:\n",
    "            r = requests.get(i)\n",
    "            data = r.text.lower()\n",
    "            soup = BeautifulSoup(data, \"html.parser\")\n",
    "            kws = soup.findAll(\"meta\", attrs={\"name\":\"keywords\"})\n",
    "            items = kws.split(\" \")\n",
    "                keywords.append(kws[0]['content'])\n",
    "        except Exception as e:\n",
    "             print(\"--\")\n",
    "get_keywords(urls)\n",
    "print(keywords)\n"
   ]
  },
  {
   "cell_type": "code",
   "execution_count": 37,
   "metadata": {},
   "outputs": [
    {
     "data": {
      "text/plain": [
       "['industrial flat panel monitors',\n",
       " 'industrial monitors',\n",
       " 'industrial monitor',\n",
       " 'industrial displays',\n",
       " 'industrial flat panel',\n",
       " 'panel mount monitor',\n",
       " 'industrial touchscreens',\n",
       " 'industrial touch screens',\n",
       " 'industrial display',\n",
       " 'panelmount',\n",
       " 'nema',\n",
       " 'his',\n",
       " 'hismonitors',\n",
       " 'hope industrial',\n",
       " 'flat screen',\n",
       " 'rackmount',\n",
       " 'rack mount',\n",
       " 'industrial pc',\n",
       " 'industrial computer',\n",
       " 'rugged pc',\n",
       " 'rugged monitor',\n",
       " 'industrial pc',\n",
       " 'industrial monitor',\n",
       " 'pepperl+fuchs',\n",
       " 'automation',\n",
       " 'industrial sensors',\n",
       " 'factory automation',\n",
       " 'explosion protection',\n",
       " 'process automation',\n",
       " 'inductive sensor',\n",
       " 'ultrasonic sensor',\n",
       " 'proximity switch',\n",
       " 'interface modules',\n",
       " 'fieldbus',\n",
       " 'remote i/o']"
      ]
     },
     "execution_count": 37,
     "metadata": {},
     "output_type": "execute_result"
    }
   ],
   "source": [
    "keywords = []\n",
    "def scrape(li):\n",
    "    for i in li:\n",
    "        r = requests.get(i)\n",
    "        data = r.text.lower()\n",
    "        soup = BeautifulSoup(data, \"html.parser\")\n",
    "        kws = soup.findAll(\"meta\", attrs={\"name\":\"keywords\"})\n",
    "        words = kws[0]['content'].split(\", \")\n",
    "        for i in words:\n",
    "            keywords.append(i)\n",
    "scrape(urls)\n",
    "keywords"
   ]
  },
  {
   "cell_type": "code",
   "execution_count": null,
   "metadata": {
    "collapsed": true
   },
   "outputs": [],
   "source": []
  }
 ],
 "metadata": {
  "kernelspec": {
   "display_name": "Python 3",
   "language": "python",
   "name": "python3"
  },
  "language_info": {
   "codemirror_mode": {
    "name": "ipython",
    "version": 3
   },
   "file_extension": ".py",
   "mimetype": "text/x-python",
   "name": "python",
   "nbconvert_exporter": "python",
   "pygments_lexer": "ipython3",
   "version": "3.6.4"
  }
 },
 "nbformat": 4,
 "nbformat_minor": 2
}
